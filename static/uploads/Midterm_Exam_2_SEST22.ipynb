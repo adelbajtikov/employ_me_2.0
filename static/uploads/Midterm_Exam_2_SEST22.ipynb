{
 "cells": [
  {
   "cell_type": "markdown",
   "id": "6c057486",
   "metadata": {},
   "source": [
    "Atalov S. (TSI AUCA)\n",
    "\n",
    "#### Data Collection and Processing Technologies\n",
    "SPRING 2025\n",
    "\n",
    "---\n",
    "\n",
    "# Midterm Exam 2 (Total: 10 points)\n",
    "SEST-2-22"
   ]
  },
  {
   "cell_type": "markdown",
   "id": "65b2d0b4",
   "metadata": {},
   "source": [
    "#### Policy Statement on Cheating\n",
    "\n",
    "The cheating policy of this class will follow the policy of the college. Students are expected to know and comply with this policy. Cheating in this class includes: among the obvious, copying another person’s project or Individual work (in whole or in part), being caught talking during an exam/quiz. Since the person who assists in cheating is just as guilty as the person who is caught cheating – if two projects or individual works handed in are found to be the same, both students will be guilty of cheating. If a student is caught cheating on a quiz - the student will receive 0% on that quiz. \n",
    "\n",
    "!!!\n",
    "**If a student is caught cheating on an exam - the student will receive a 0% for that exam.**\n",
    "!!!\n",
    "\n",
    "Repeated case of plagiarism will result in automatic failure of the course. If the student is caught a third time, the student's expulsion from the university follows.\n",
    "\n",
    "Plagiarism is a very serious question in the academic environment. The general rule to prevent plagiarism is to never pass off someone else's work as your own. Students are required to maintain high ethical standards when studying.\n",
    "\n",
    "---"
   ]
  },
  {
   "cell_type": "code",
   "execution_count": null,
   "id": "f0d1b19a",
   "metadata": {},
   "outputs": [],
   "source": [
    "import os\n",
    "from tqdm.autonotebook import tqdm, trange\n",
    "\n",
    "import torch\n",
    "import torch.nn as nn\n",
    "import torch.optim as optim\n",
    "from torch.optim import lr_scheduler\n",
    "\n",
    "import torchvision\n",
    "from torchvision import datasets, models, transforms\n",
    "\n",
    "import numpy as np\n",
    "import pandas as pd\n",
    "import matplotlib.pyplot as plt\n",
    "import time"
   ]
  },
  {
   "cell_type": "markdown",
   "id": "19fb50f7",
   "metadata": {},
   "source": [
    "# Part 1. Data Preparation ( 2.5 p)"
   ]
  },
  {
   "cell_type": "markdown",
   "id": "a98a9b15",
   "metadata": {},
   "source": [
    "### 1.1. Reading the data ( 1 p. )"
   ]
  },
  {
   "cell_type": "markdown",
   "id": "45a42289",
   "metadata": {},
   "source": [
    "You are given a folder of images with **two** classes. Read images from the directory and create both training and validation datasets."
   ]
  },
  {
   "cell_type": "code",
   "execution_count": null,
   "id": "ad3691eb",
   "metadata": {},
   "outputs": [],
   "source": [
    "\n"
   ]
  },
  {
   "cell_type": "markdown",
   "id": "cbd13682",
   "metadata": {},
   "source": [
    "### 1.2. Show example image from dataset ( 0.25 p. )"
   ]
  },
  {
   "cell_type": "code",
   "execution_count": null,
   "id": "d789e1a3",
   "metadata": {},
   "outputs": [],
   "source": [
    "\n"
   ]
  },
  {
   "cell_type": "markdown",
   "id": "0a7c50f2",
   "metadata": {},
   "source": [
    "### 1.3. Preprocess and Prepare Dataloaders ( 1.25 p. )"
   ]
  },
  {
   "cell_type": "code",
   "execution_count": null,
   "id": "521940c3",
   "metadata": {},
   "outputs": [],
   "source": [
    "\n"
   ]
  },
  {
   "cell_type": "markdown",
   "id": "9b936c85",
   "metadata": {},
   "source": [
    "---\n",
    "# Part 2. Building Convolutional Neural Network Model ( 5 p.)"
   ]
  },
  {
   "cell_type": "markdown",
   "id": "bb32f5ee",
   "metadata": {},
   "source": [
    "You can build a CNN from scratch using PyTorch or use Transfer Learning using a pre-trained model.\n",
    "\n",
    "It will be sufficient to achieve a 90% accuracy on the training and validation dataset."
   ]
  },
  {
   "cell_type": "markdown",
   "id": "b8436a30",
   "metadata": {},
   "source": [
    "### 2.1. Specify the model ( 2 p. )"
   ]
  },
  {
   "cell_type": "code",
   "execution_count": null,
   "id": "86ab06c5",
   "metadata": {},
   "outputs": [],
   "source": []
  },
  {
   "cell_type": "code",
   "execution_count": null,
   "id": "ef9b5cf9",
   "metadata": {},
   "outputs": [],
   "source": []
  },
  {
   "cell_type": "markdown",
   "id": "b5134163",
   "metadata": {},
   "source": [
    "### 2.2. Fit the model ( 2 p. )"
   ]
  },
  {
   "cell_type": "code",
   "execution_count": null,
   "id": "eca737f3",
   "metadata": {},
   "outputs": [],
   "source": []
  },
  {
   "cell_type": "markdown",
   "id": "f1c9bd04",
   "metadata": {},
   "source": [
    "### 2.3. Show the loss and accuracy of epochs on training and validation dataset ( 1 p. )"
   ]
  },
  {
   "cell_type": "code",
   "execution_count": null,
   "id": "66244999",
   "metadata": {},
   "outputs": [],
   "source": []
  },
  {
   "cell_type": "markdown",
   "id": "1c6d0ad1",
   "metadata": {},
   "source": [
    "---\n",
    "# Part 3. Test Model ( 2.5 p)\n",
    "\n",
    "Let's test the model on test data (10 images)."
   ]
  },
  {
   "cell_type": "markdown",
   "id": "fcf5ae98",
   "metadata": {},
   "source": [
    "### 3.1. Read and Prepare test images ( 1 p. )"
   ]
  },
  {
   "cell_type": "code",
   "execution_count": null,
   "id": "7435335f",
   "metadata": {},
   "outputs": [],
   "source": []
  },
  {
   "cell_type": "markdown",
   "id": "dd003d88",
   "metadata": {},
   "source": [
    "### 3.2. Make a predictions ( 0.5 p. )"
   ]
  },
  {
   "cell_type": "code",
   "execution_count": null,
   "id": "ca58f304",
   "metadata": {},
   "outputs": [],
   "source": []
  },
  {
   "cell_type": "markdown",
   "id": "40d2e195",
   "metadata": {},
   "source": [
    "### 3.3. Show every image with a prediction made ( 1 p. )"
   ]
  },
  {
   "cell_type": "code",
   "execution_count": null,
   "id": "7fdeef6f",
   "metadata": {},
   "outputs": [],
   "source": []
  }
 ],
 "metadata": {
  "kernelspec": {
   "display_name": "Python 3 (ipykernel)",
   "language": "python",
   "name": "python3"
  },
  "language_info": {
   "codemirror_mode": {
    "name": "ipython",
    "version": 3
   },
   "file_extension": ".py",
   "mimetype": "text/x-python",
   "name": "python",
   "nbconvert_exporter": "python",
   "pygments_lexer": "ipython3",
   "version": "3.12.7"
  }
 },
 "nbformat": 4,
 "nbformat_minor": 5
}
